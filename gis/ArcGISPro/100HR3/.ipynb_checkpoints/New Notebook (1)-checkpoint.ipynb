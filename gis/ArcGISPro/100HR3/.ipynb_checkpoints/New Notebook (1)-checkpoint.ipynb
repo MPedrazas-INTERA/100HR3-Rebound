{
 "cells": [
  {
   "cell_type": "code",
   "execution_count": null,
   "metadata": {},
   "outputs": [],
   "source": [
    "import arcpy\n",
    "import os\n",
    "\n",
    "layer_style = os.path.join(os.getcwd(), 'contours_style.lyrx')\n",
    "\n"
   ]
  }
 ],
 "metadata": {
  "kernelspec": {
   "display_name": "ArcGISPro",
   "language": "Python",
   "name": "python3"
  },
  "language_info": {
   "file_extension": ".py",
   "name": "python",
   "version": "3"
  }
 },
 "nbformat": 4,
 "nbformat_minor": 2
}
