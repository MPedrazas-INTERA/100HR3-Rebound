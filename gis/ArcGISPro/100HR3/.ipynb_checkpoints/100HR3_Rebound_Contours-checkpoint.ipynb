{
 "cells": [
  {
   "cell_type": "code",
   "execution_count": 43,
   "metadata": {
    "scrolled": true
   },
   "outputs": [
    {
     "name": "stdout",
     "output_type": "stream",
     "text": [
      "C:\\Users\\rweatherl\\OneDrive - INTERA Inc\\Documents\\GitHub\\100HR3-Rebound\\gis\\ArcGISPro\\100HR3\n"
     ]
    },
    {
     "ename": "IndexError",
     "evalue": "list index out of range",
     "output_type": "error",
     "traceback": [
      "\u001b[0;31m---------------------------------------------------------------------------\u001b[0m\n\u001b[0;31mIndexError\u001b[0m                                Traceback (most recent call last)",
      "In  \u001b[0;34m[43]\u001b[0m:\nLine \u001b[0;34m13\u001b[0m:    layout = aprx.listLayouts(\u001b[33m\"\u001b[39;49;00m\u001b[33m100H_rebound_layout1\u001b[39;49;00m\u001b[33m\"\u001b[39;49;00m)[\u001b[34m0\u001b[39;49;00m]\n",
      "\u001b[0;31mIndexError\u001b[0m: list index out of range\n\u001b[0;31m---------------------------------------------------------------------------\u001b[0m"
     ]
    }
   ],
   "source": [
    "#import arcpy\n",
    "import arcpy.mp\n",
    "import os\n",
    "import time\n",
    "\n",
    "print(os.getcwd())\n",
    "\n",
    "shapefile_folder = r\"C:\\Users\\RWeatherl\\OneDrive - INTERA Inc\\Documents\\GitHub\\100HR3-Rebound\\mruns\\calib_2014_2023\\flow_2014_2023\\post_process\\hed2contours\\output\"\n",
    "output_folder = r\"C:\\Users\\RWeatherl\\OneDrive - INTERA Inc\\Documents\\GitHub\\100HR3-Rebound\\gis\\maps\\tests\"\n",
    "aprx_path = os.path.join(os.getcwd(), '100HR3.aprx')\n",
    "aprx = arcpy.mp.ArcGISProject(aprx_path)\n",
    "existing_map = aprx.listMaps(\"Map\")[0]\n",
    "layout = aprx.listLayouts(\"100H_rebound_layout1\")[0]\n",
    "legend = layout.listElements(\"LEGEND_ELEMENT\")[0]\n",
    "\n",
    "contour_shps = ['heads_contour_SP97L2', 'heads_contour_SP98L2', 'heads_contour_SP99L2', 'heads_contour_SP100L2',\n",
    "               'heads_contour_SP101L2', 'heads_contour_SP102L2', 'heads_contour_SP103L2', 'heads_contour_SP104L2',\n",
    "               'heads_contour_SP105L2', 'heads_contour_SP106L2', 'heads_contour_SP107L2', 'heads_contour_SP108L2',\n",
    "               'heads_contour_SP109L2', 'heads_contour_SP110L2', 'heads_contour_SP111L2', 'heads_contour_SP112L2',\n",
    "               'heads_contour_SP113L2', 'heads_contour_SP114L2', 'heads_contour_SP115L2']\n",
    "\n",
    "for shp in contour_shps:\n",
    "    ## activate shapefile\n",
    "    contour_layer = existing_map.listLayers(shp)[0]\n",
    "    contour_layer.visible = True\n",
    "    map_frame = layout.listElements('MAPFRAME_ELEMENT', 'Map Frame')[0]\n",
    "   # map_frame.camera.setExtent(contour_layer.fullExtent)\n",
    "\n",
    "    \n",
    "    ## Export Map\n",
    "    output_map_name = os.path.join(output_folder,f\"Map_{shp}_test.png\")\n",
    "    layout.exportToPNG(output_map_name, 400)\n",
    "    contour_layer.visible = False\n",
    "\n",
    "# aprx.save()"
   ]
  },
  {
   "cell_type": "code",
   "execution_count": 45,
   "metadata": {},
   "outputs": [
    {
     "name": "stdout",
     "output_type": "stream",
     "text": [
      "  Layout (9.0 x 8.5 INCH)\n",
      "  Layout1 (11.0 x 8.5 INCH)\n",
      "  Layout2 (11.0 x 8.5 INCH)\n",
      "  Layout3 (11.0 x 8.5 INCH)\n",
      "  Layout4 (11.0 x 8.5 INCH)\n",
      "  Layout5 (11.0 x 8.5 INCH)\n",
      "  Layout6 (11.0 x 8.5 INCH)\n"
     ]
    }
   ],
   "source": [
    "for lyt in aprx.listLayouts():\n",
    "    print(f\"  {lyt.name} ({lyt.pageHeight} x {lyt.pageWidth} {lyt.pageUnits})\")"
   ]
  },
  {
   "cell_type": "code",
   "execution_count": null,
   "metadata": {},
   "outputs": [],
   "source": []
  },
  {
   "cell_type": "code",
   "execution_count": null,
   "metadata": {},
   "outputs": [],
   "source": []
  }
 ],
 "metadata": {
  "kernelspec": {
   "display_name": "ArcGISPro",
   "language": "Python",
   "name": "python3"
  },
  "language_info": {
   "file_extension": ".py",
   "name": "python",
   "version": "3"
  }
 },
 "nbformat": 4,
 "nbformat_minor": 2
}
