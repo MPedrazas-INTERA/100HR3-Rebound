{
 "cells": [
  {
   "cell_type": "code",
   "execution_count": 10,
   "metadata": {
    "scrolled": true
   },
   "outputs": [
    {
     "name": "stdout",
     "output_type": "stream",
     "text": [
      "C:\\Users\\rweatherl\\OneDrive - INTERA Inc\\Documents\\GitHub\\100HR3-Rebound\\gis\\ArcGISPro\\100HR3\n"
     ]
    }
   ],
   "source": [
    "import arcpy\n",
    "import os\n",
    "import time\n",
    "\n",
    "print(os.getcwd())\n",
    "\n",
    "#shapefile_folder = r\"C:\\Users\\RWeatherl\\OneDrive - INTERA Inc\\Documents\\GitHub\\100HR3-Rebound\\mruns\\calib_2014_2023\\flow_2014_2023\\post_process\\hed2contours\\output\"\n",
    "output_folder = r\"C:\\Users\\RWeatherl\\OneDrive - INTERA Inc\\Documents\\GitHub\\100HR3-Rebound\\gis\\maps\\tests\"\n",
    "aprx_path = os.path.join(os.getcwd(), '100HR3.aprx')\n",
    "aprx = arcpy.mp.ArcGISProject(aprx_path)\n",
    "existing_map = aprx.listMaps(\"Map\")[0]\n",
    "layout = aprx.listLayouts(\"100H_rebound_layout1\")[0]\n",
    "\n",
    "# contour_shps = ['heads_contour_SP97L2', 'heads_contour_SP98L2', 'heads_contour_SP99L2', 'heads_contour_SP100L2',\n",
    "#                'heads_contour_SP101L2', 'heads_contour_SP102L2', 'heads_contour_SP103L2', 'heads_contour_SP104L2',\n",
    "#                'heads_contour_SP105L2', 'heads_contour_SP106L2', 'heads_contour_SP107L2', 'heads_contour_SP108L2',\n",
    "#                'heads_contour_SP109L2', 'heads_contour_SP110L2', 'heads_contour_SP111L2', 'heads_contour_SP112L2',\n",
    "#                'heads_contour_SP113L2', 'heads_contour_SP114L2', 'heads_contour_SP115L2']\n",
    "\n",
    "contour_shps = ['GWL Jan 2014', 'GWL Jan 2022', 'GWL Feb 2022', 'GWL Mar 2022',\n",
    "               'GWL Apr 2022', 'GWL May 2022', 'GWL Jun 2022', 'GWL Jul 2022']\n",
    "\n",
    "for shp in contour_shps:\n",
    "    ## activate shapefile\n",
    "    contour_layer = existing_map.listLayers(shp)[0]\n",
    "    contour_layer.visible = True\n",
    "    map_frame = layout.listElements('MAPFRAME_ELEMENT', 'Map Frame')[0]\n",
    "   # map_frame.camera.setExtent(contour_layer.fullExtent)\n",
    "\n",
    "    \n",
    "    ## Export Map\n",
    "    output_map_name = os.path.join(output_folder,f\"Map_{shp}_test2.png\")\n",
    "    layout.exportToPNG(output_map_name, 400)\n",
    "    contour_layer.visible = False\n",
    "\n",
    "# aprx.save()"
   ]
  },
  {
   "cell_type": "code",
   "execution_count": 2,
   "metadata": {},
   "outputs": [
    {
     "name": "stdout",
     "output_type": "stream",
     "text": [
      "  100H_rebound_layout1 (8.5 x 8.5 INCH)\n",
      "  Layout (9.0 x 9.0 INCH)\n",
      "  Layout1 (8.0 x 8.5 INCH)\n"
     ]
    }
   ],
   "source": [
    "for lyt in aprx.listLayouts():\n",
    "    print(f\"  {lyt.name} ({lyt.pageHeight} x {lyt.pageWidth} {lyt.pageUnits})\")"
   ]
  },
  {
   "cell_type": "code",
   "execution_count": 9,
   "metadata": {},
   "outputs": [
    {
     "name": "stdout",
     "output_type": "stream",
     "text": [
      "<arcpy._mp.Layout object at 0x000002D6D1D94400>\n"
     ]
    }
   ],
   "source": [
    "print(aprx.listLayouts(\"100H_rebound_layout1\")[0])"
   ]
  },
  {
   "cell_type": "code",
   "execution_count": null,
   "metadata": {},
   "outputs": [],
   "source": []
  }
 ],
 "metadata": {
  "kernelspec": {
   "display_name": "ArcGISPro",
   "language": "Python",
   "name": "python3"
  },
  "language_info": {
   "file_extension": ".py",
   "name": "python",
   "version": "3"
  }
 },
 "nbformat": 4,
 "nbformat_minor": 2
}
