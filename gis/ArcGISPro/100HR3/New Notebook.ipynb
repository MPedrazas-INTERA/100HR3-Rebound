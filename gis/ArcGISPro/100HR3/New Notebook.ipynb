{
 "cells": [
  {
   "cell_type": "code",
   "execution_count": null,
   "metadata": {
    "scrolled": true
   },
   "outputs": [
    {
     "name": "stdout",
     "output_type": "stream",
     "text": [
      "C:\\Users\\RWeatherl\\OneDrive - INTERA Inc\\Documents\\GitHub\\100HR3-Rebound\\gis\\ArcGISPro\\100HR3\n"
     ]
    }
   ],
   "source": [
    "#import arcpy\n",
    "import arcpy.mp\n",
    "import os\n",
    "import time\n",
    "\n",
    "print(os.getcwd())\n",
    "\n",
    "#arcpy.env.workspace = r\"C:\\Users\\RWeatherl\\OneDrive - INTERA Inc\\Documents\\GitHub\\100HR3-Rebound\\gis\\ArcGISPro\\100HR3\"\n",
    "\n",
    "shapefile_folder = r\"C:\\Users\\RWeatherl\\OneDrive - INTERA Inc\\Documents\\GitHub\\100HR3-Rebound\\mruns\\calib_2014_2023\\flow_2014_2023\\post_process\\hed2contours\\output\"\n",
    "output_folder = r\"C:\\Users\\RWeatherl\\OneDrive - INTERA Inc\\Documents\\GitHub\\100HR3-Rebound\\gis\\maps\\water level contours\"\n",
    "aprx_path = os.path.join(os.getcwd(), '100HR3.aprx')\n",
    "aprx = arcpy.mp.ArcGISProject(aprx_path)\n",
    "existing_map = aprx.listMaps(\"Map\")[0]\n",
    "\n",
    "contour_shps = ['heads_contour_SP97L2', 'heads_contour_SP98L2', 'heads_contour_SP99L2', 'heads_contour_SP100L2',\n",
    "               'heads_contour_SP101L2', 'heads_contour_SP102L2', 'heads_contour_SP103L2', 'heads_contour_SP104L2',\n",
    "               'heads_contour_SP105L2', 'heads_contour_SP106L2', 'heads_contour_SP107L2', 'heads_contour_SP108L2',\n",
    "               'heads_contour_SP109L2', 'heads_contour_SP110L2', 'heads_contour_SP111L2', 'heads_contour_SP112L2',\n",
    "               'heads_contour_SP113L2', 'heads_contour_SP114L2', 'heads_contour_SP115L2']\n",
    "\n",
    "for shp in contour_shps:\n",
    "    ## activate shapefile\n",
    "    #arcpy.management.SelectLayerByAttribute(lyr_file, \"level\", f\"SHAPEFILENAME = '{shp}'\")\n",
    "    ## define layout or map frame\n",
    "    #shapefile_path = os.path.join(shapefile_folder, f\"{shp}.shp\")\n",
    "    #contour_layer = existing_map.addDataFromPath(shapefile_path)\n",
    "    contour_layer = existing_map.listLayers(shp)[0]\n",
    "    contour_layer.visible = True\n",
    "    \n",
    "#     line_color = {'RGB': [255, 0, 0, 0]}\n",
    "#     line_width = 0.7\n",
    "#     contour_layer.symbology.color = line_color\n",
    "#     contour_layer.symbology.width = line_width\n",
    "\n",
    "    layout = aprx.listLayouts(\"Layout\")[0]\n",
    "    map_frame = layout.listElements('MAPFRAME_ELEMENT', 'Map Frame')[0]\n",
    "    #map_frame.camera.setExtent(contour_layer.fullExtent)\n",
    "    \n",
    "        # Introduce a delay after symbology changes\n",
    "#     time.sleep(1)\n",
    "    \n",
    "    \n",
    "    ## Export Map\n",
    "    output_map_name = os.path.join(output_folder,f\"Map_{shp}.png\")\n",
    "    layout.exportToPNG(output_map_name, 400)\n",
    "    contour_layer.visible = False\n",
    "\n",
    "#     arcpy.mp.ExportToPNG(layout, output_map_name)\n",
    "# aprx.save()"
   ]
  },
  {
   "cell_type": "code",
   "execution_count": null,
   "metadata": {},
   "outputs": [],
   "source": []
  },
  {
   "cell_type": "code",
   "execution_count": null,
   "metadata": {},
   "outputs": [],
   "source": []
  },
  {
   "cell_type": "code",
   "execution_count": null,
   "metadata": {},
   "outputs": [],
   "source": []
  }
 ],
 "metadata": {
  "kernelspec": {
   "display_name": "ArcGISPro",
   "language": "Python",
   "name": "python3"
  },
  "language_info": {
   "file_extension": ".py",
   "name": "python",
   "version": "3"
  }
 },
 "nbformat": 4,
 "nbformat_minor": 2
}
