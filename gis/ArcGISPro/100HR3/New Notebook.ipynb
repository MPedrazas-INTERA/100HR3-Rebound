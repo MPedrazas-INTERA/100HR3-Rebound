{
 "cells": [
  {
   "cell_type": "code",
   "execution_count": 3,
   "metadata": {},
   "outputs": [
    {
     "name": "stdout",
     "output_type": "stream",
     "text": [
      "C:\\Users\\RWeatherl\\OneDrive - INTERA Inc\\Documents\\GitHub\\100HR3-Rebound\\gis\\ArcGISPro\\100HR3\n"
     ]
    }
   ],
   "source": [
    "import arcpy\n",
    "import os\n",
    "\n",
    "print(os.getcwd())\n",
    "\n",
    "arcpy.env.workspace = os.path.join(os.getcwd(), '100HR3.gdb')\n",
    "\n",
    "contour_shps = ['heads_contour_SP97L2', 'heads_contour_SP98L2', 'heads_contour_SP99L2', 'heads_contour_SP100L2',\n",
    "               'heads_contour_SP101L2', 'heads_contour_SP102L2', 'heads_contour_SP103L2', 'heads_contour_SP104L2',\n",
    "               'heads_contour_SP105L2', 'heads_contour_SP106L2', 'heads_contour_SP107L2', 'heads_contour_SP108L2',\n",
    "               'heads_contour_SP109L2', 'heads_contour_SP110L2', 'heads_contour_SP111L2', 'heads_contour_SP112L2',\n",
    "               'heads_contour_SP113L2', 'heads_contour_SP114L2', 'heads_contour_SP115L2']\n",
    "\n",
    "for shp in contour_shps:\n",
    "    ## activate shapefile\n",
    "    arcpy.management.SelectLayerByAttribute()"
   ]
  }
 ],
 "metadata": {
  "kernelspec": {
   "display_name": "ArcGISPro",
   "language": "Python",
   "name": "python3"
  },
  "language_info": {
   "file_extension": ".py",
   "name": "python",
   "version": "3"
  }
 },
 "nbformat": 4,
 "nbformat_minor": 2
}
