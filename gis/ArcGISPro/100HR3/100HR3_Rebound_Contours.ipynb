{
 "cells": [
  {
   "cell_type": "code",
   "execution_count": 41,
   "metadata": {
    "scrolled": true
   },
   "outputs": [
    {
     "name": "stdout",
     "output_type": "stream",
     "text": [
      "C:\\Users\\RWeatherl\\OneDrive - INTERA Inc\\Documents\\GitHub\\100HR3-Rebound\\gis\\ArcGISPro\\100HR3\n"
     ]
    }
   ],
   "source": [
    "import arcpy\n",
    "import os\n",
    "import time\n",
    "\n",
    "\n",
    "workspace = r\"C:\\Users\\RWeatherl\\OneDrive - INTERA Inc\\Documents\\GitHub\\100HR3-Rebound\\gis\\ArcGISPro\\100HR3\"\n",
    "arcpy.env.workspace = workspace\n",
    "print(arcpy.env.workspace)\n",
    "\n",
    "# #shapefile_folder = r\"C:\\Users\\RWeatherl\\OneDrive - INTERA Inc\\Documents\\GitHub\\100HR3-Rebound\\mruns\\calib_2014_2023\\flow_2014_2023\\post_process\\hed2contours\\output\"\n",
    "output_folder = r\"C:\\Users\\RWeatherl\\OneDrive - INTERA Inc\\Documents\\GitHub\\100HR3-Rebound\\gis\\maps\\water level contours\"\n",
    "aprx_path = os.path.join(workspace, '100HR3.aprx')\n",
    "aprx = arcpy.mp.ArcGISProject(aprx_path)\n",
    "existing_map = aprx.listMaps(\"Map\")[0]\n",
    "layout = aprx.listLayouts(\"100H_rebound_layout\")[0]\n",
    "# Reference the legend in the layout\n",
    "legend = layout.listElements(\"LEGEND_ELEMENT\")[0]\n",
    "\n",
    "contour_shps = ['GWL Jan 2014', 'GWL Jan 2022', 'GWL Feb 2022', 'GWL Mar 2022',\n",
    "               'GWL Apr 2022', 'GWL May 2022', 'GWL Jun 2022', 'GWL Jul 2022',\n",
    "               'GWL Aug 2022', 'GWL Sept 2022', 'GWL Oct 2022', 'GWL Nov 2022',\n",
    "               'GWL Dec 2022', 'GWL Jan 2023', 'GWL Feb 2023', 'GWL Mar 2023',\n",
    "               'GWL Apr 2023', 'GWL May 2023', 'GWL Jun 2023', 'GWL Jul 2023']\n",
    "\n",
    "for shp in contour_shps:\n",
    "    ## activate shapefile\n",
    "    contour_layer = existing_map.listLayers(shp)[0]\n",
    "    contour_layer.visible = True\n",
    "    \n",
    "\n",
    "    # Update the legend based on the currently visible layers\n",
    "    visible_layers = [layer.name for layer in existing_map.listLayers() if layer.visible]\n",
    "\n",
    "    for legend_item in legend.items:\n",
    "        if legend_item.name in visible_layers:\n",
    "            legend_item.visible = True\n",
    "        else:\n",
    "            legend_item.visible = False\n",
    "\n",
    "    ## Export Map\n",
    "    output_map_name = os.path.join(output_folder,f\"Map_{shp}.png\")\n",
    "    layout.exportToPNG(output_map_name, 400)\n",
    "    ## deactivate shapefile\n",
    "    contour_layer.visible = False\n",
    "\n"
   ]
  },
  {
   "cell_type": "code",
   "execution_count": 21,
   "metadata": {},
   "outputs": [
    {
     "name": "stdout",
     "output_type": "stream",
     "text": [
      "  100H_rebound_layout1 (8.5 x 8.5 INCH)\n",
      "  Layout11 (8.0 x 8.5 INCH)\n",
      "  Layout (9.0 x 9.0 INCH)\n",
      "  Layout1 (8.0 x 8.5 INCH)\n"
     ]
    }
   ],
   "source": [
    "for lyt in aprx.listLayouts():\n",
    "    print(f\"  {lyt.name} ({lyt.pageHeight} x {lyt.pageWidth} {lyt.pageUnits})\")"
   ]
  },
  {
   "cell_type": "code",
   "execution_count": 32,
   "metadata": {},
   "outputs": [
    {
     "data": {
      "text/plain": [
       "<arcpy._mp.MapFrame object at 0x000001866ECF0040>"
      ]
     },
     "execution_count": 32,
     "metadata": {},
     "output_type": "execute_result"
    }
   ],
   "source": [
    "map_frame"
   ]
  },
  {
   "cell_type": "code",
   "execution_count": null,
   "metadata": {},
   "outputs": [],
   "source": []
  }
 ],
 "metadata": {
  "kernelspec": {
   "display_name": "ArcGISPro",
   "language": "Python",
   "name": "python3"
  },
  "language_info": {
   "file_extension": ".py",
   "name": "python",
   "version": "3"
  }
 },
 "nbformat": 4,
 "nbformat_minor": 2
}
